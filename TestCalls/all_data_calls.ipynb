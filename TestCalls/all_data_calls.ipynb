{
 "cells": [
  {
   "cell_type": "code",
   "execution_count": 1,
   "id": "08225522",
   "metadata": {},
   "outputs": [],
   "source": [
    "import os\n",
    "import requests\n",
    "import pandas as pd\n",
    "import json\n",
    "\n",
    "from pathlib import Path\n",
    "import csv\n",
    "\n",
    "from dotenv import load_dotenv\n",
    "load_dotenv()\n",
    "\n",
    "import pandas_datareader as web\n",
    "import datetime as dt\n",
    "\n",
    "%matplotlib inline"
   ]
  },
  {
   "cell_type": "code",
   "execution_count": 2,
   "id": "b398fea4",
   "metadata": {},
   "outputs": [
    {
     "data": {
      "text/plain": [
       "<Response [200]>"
      ]
     },
     "execution_count": 2,
     "metadata": {},
     "output_type": "execute_result"
    }
   ],
   "source": [
    "start = dt.datetime(2014,8,1)\n",
    "end = dt.datetime.now()\n",
    "\n",
    "btc_date = dt.datetime(2014,8,1)\n",
    "\n",
    "iex_api_key = os.getenv(\"IEX_API_KEY\")\n",
    "iex_test_api_key = os.getenv(\"IEX_TEST_API_KEY\")\n",
    "\n",
    "base_url = 'https://cloud.iexapis.com/stable/'\n",
    "sandbox_url = 'https://sandbox.iexapis.com/stable/'\n",
    "\n",
    "\n",
    "token = os.environ.get('IEX_API_KEY')\n",
    "test_token = os.environ.get('IEX_TEST_API_KEY')\n",
    "params = {'token': token}\n",
    "test_params = {'token': test_token}\n",
    "\n",
    "test_resp = requests.get(base_url + 'status')\n",
    "test_resp"
   ]
  },
  {
   "cell_type": "code",
   "execution_count": 3,
   "id": "b1a47079",
   "metadata": {},
   "outputs": [],
   "source": [
    "def get_close(ticker):\n",
    "    data = web.DataReader(ticker, 'yahoo', start, end)\n",
    "    df = data[[\"Close\"]]\n",
    "    df.rename(columns={'Close':ticker},inplace=True)\n",
    "    return df\n",
    "\n",
    "def yahoo_10_year_data(tickers_list):\n",
    "#     start = dt.datetime(2011,9,20)\n",
    "#     end = dt.datetime.now()\n",
    "    combined_df_f = pd.DataFrame()\n",
    "    \n",
    "    for i in tickers_list:\n",
    "        if i == 0: \n",
    "            raw_df_1 = web.DataReader(i, 'yahoo', start, end)\n",
    "            combined_df_f = raw_df_1[['Close']]\n",
    "            combined_df_f.rename(columns={'Close':i},inplace=True)\n",
    "            \n",
    "        else:\n",
    "            raw_df_2 = web.DataReader(i, 'yahoo', start, end)\n",
    "            df_f = raw_df_2[['Close']]\n",
    "            df_f.rename(columns={'Close':i},inplace=True)\n",
    "            \n",
    "            combined_df_f = pd.concat([combined_df_f,df_f], axis='columns')\n",
    "            #combined_df_f = combined_df_f.merge(df_f, how='inner',right_index=True, left_index=True)\n",
    "\n",
    "\n",
    "    return combined_df_f\n",
    "\n",
    "def test_iex_apicall_get_close_data_73m(tickers_list):\n",
    "    combined_df_f = pd.DataFrame()\n",
    "    \n",
    "    for i in tickers_list: \n",
    "        \n",
    "        if i == 0: \n",
    "            resp_data = requests.get(sandbox_url+'stock/'+i+'/chart/75m?token='+test_token)\n",
    "            combined_df_f = pd.DataFrame(resp_data.json())\n",
    "            \n",
    "            combined_df_f.rename(columns={'date':'Date'},inplace=True)\n",
    "            combined_df_f['Date'] = pd.to_datetime(combined_df_f['Date'])\n",
    "            combined_df_f = combined_df_f.set_index('Date')\n",
    "            combined_df_f = combined_df_f[['close']]\n",
    "            symbol = i \n",
    "            combined_df_f.rename(columns={'close':symbol},inplace=True)\n",
    "            \n",
    "        else: \n",
    "            resp_data = requests.get(sandbox_url+'stock/'+i+'/chart/75m?token='+test_token)\n",
    "            resp_df = pd.DataFrame(resp_data.json())\n",
    "            \n",
    "            resp_df.rename(columns={'date':'Date'},inplace=True)\n",
    "            resp_df['Date'] = pd.to_datetime(resp_df['Date'])\n",
    "            resp_df = resp_df.set_index('Date')\n",
    "            resp_df = resp_df[['close']]\n",
    "            #symbol = data.iloc[0,4]\n",
    "            symbol = i\n",
    "            resp_df.rename(columns={'close':symbol},inplace=True)\n",
    "            \n",
    "            combined_df_f = pd.concat([combined_df_f,resp_df], axis='columns')\n",
    "            \n",
    "    return combined_df_f "
   ]
  },
  {
   "cell_type": "code",
   "execution_count": 4,
   "id": "a5f0b8b8",
   "metadata": {},
   "outputs": [
    {
     "name": "stderr",
     "output_type": "stream",
     "text": [
      "C:\\Users\\watso\\anaconda3\\envs\\pyvizenv\\lib\\site-packages\\pandas\\core\\frame.py:4449: SettingWithCopyWarning: \n",
      "A value is trying to be set on a copy of a slice from a DataFrame\n",
      "\n",
      "See the caveats in the documentation: https://pandas.pydata.org/pandas-docs/stable/user_guide/indexing.html#returning-a-view-versus-a-copy\n",
      "  errors=errors,\n",
      "C:\\Users\\watso\\anaconda3\\envs\\pyvizenv\\lib\\site-packages\\pandas\\core\\frame.py:4449: SettingWithCopyWarning: \n",
      "A value is trying to be set on a copy of a slice from a DataFrame\n",
      "\n",
      "See the caveats in the documentation: https://pandas.pydata.org/pandas-docs/stable/user_guide/indexing.html#returning-a-view-versus-a-copy\n",
      "  errors=errors,\n"
     ]
    }
   ],
   "source": [
    "btc = get_close('BTC-USD')\n",
    "eth = get_close('ETH-USD')\n",
    "stock_list = ['GME','AMC','AMZN','WMT','NVDA','AMD','AAPL','MSFT','DIS','PYPL']\n",
    "iex_stock_list = test_iex_apicall_get_close_data_73m(stock_list)\n",
    "#iex_stock_list"
   ]
  },
  {
   "cell_type": "code",
   "execution_count": 5,
   "id": "53a0a899",
   "metadata": {},
   "outputs": [],
   "source": [
    "crypto_df = btc.merge(eth, how='inner',right_index=True, left_index=True)\n",
    "#crypto_df"
   ]
  },
  {
   "cell_type": "code",
   "execution_count": 6,
   "id": "7d893b83",
   "metadata": {},
   "outputs": [],
   "source": [
    "full_df = crypto_df.merge(iex_stock_list, how='inner',right_index=True, left_index=True)\n",
    "#full_df"
   ]
  },
  {
   "cell_type": "code",
   "execution_count": 7,
   "id": "20794673",
   "metadata": {},
   "outputs": [],
   "source": [
    "#full_df.plot(figsize=(10,5))"
   ]
  },
  {
   "cell_type": "code",
   "execution_count": 8,
   "id": "8b2e3737",
   "metadata": {},
   "outputs": [],
   "source": [
    "full_pct_change = full_df.pct_change()\n",
    "#full_pct_change.plot(figsize=(10,5))"
   ]
  },
  {
   "cell_type": "code",
   "execution_count": 9,
   "id": "a7293809",
   "metadata": {},
   "outputs": [],
   "source": [
    "# Set the file path\n",
    "csvpath = Path('Resources/1810020501_databaseLoadingData.csv')\n",
    "csv_data = pd.read_csv(csvpath)"
   ]
  },
  {
   "cell_type": "code",
   "execution_count": 10,
   "id": "6f37582a",
   "metadata": {},
   "outputs": [
    {
     "name": "stderr",
     "output_type": "stream",
     "text": [
      "C:\\Users\\watso\\anaconda3\\envs\\pyvizenv\\lib\\site-packages\\ipykernel_launcher.py:2: SettingWithCopyWarning: \n",
      "A value is trying to be set on a copy of a slice from a DataFrame.\n",
      "Try using .loc[row_indexer,col_indexer] = value instead\n",
      "\n",
      "See the caveats in the documentation: https://pandas.pydata.org/pandas-docs/stable/user_guide/indexing.html#returning-a-view-versus-a-copy\n",
      "  \n"
     ]
    }
   ],
   "source": [
    "land_and_house = csv_data[[\"REF_DATE\",\"New housing price indexes\",\"VALUE\"]]\n",
    "land_and_house['NEW_REF_DATE'] = pd.to_datetime((land_and_house['REF_DATE'].astype(str) + \"-01\"))\n",
    "land_and_house.rename(columns={'NEW_REF_DATE':'Date'},inplace=True)\n",
    "land_and_house.set_index(\"New housing price indexes\",inplace=True)\n",
    "\n",
    "total_land_and_house_value = land_and_house.loc[\"Total (house and land)\"]\n",
    "total_land_and_house_value.set_index(\"Date\",inplace=True)\n",
    "total_land_and_house_value.rename(columns={'VALUE':\"Total land+house Value\"},inplace=True)\n",
    "total_land_and_house_value = total_land_and_house_value[['Total land+house Value']]\n",
    "\n",
    "land_value = land_and_house.loc[\"Land only\"]\n",
    "land_value.set_index(\"Date\",inplace=True)\n",
    "land_value.rename(columns={'VALUE':\"Land Value\"},inplace=True)\n",
    "land_value = land_value[['Land Value']]\n",
    "\n",
    "house_value = land_and_house.loc[\"House only\"]\n",
    "house_value.set_index(\"Date\",inplace=True)\n",
    "house_value.rename(columns={'VALUE':\"House Value\"},inplace=True)\n",
    "house_value = house_value[['House Value']]"
   ]
  },
  {
   "cell_type": "code",
   "execution_count": 11,
   "id": "f67c3194",
   "metadata": {},
   "outputs": [],
   "source": [
    "combined_df = pd.concat([total_land_and_house_value,house_value,land_value], axis='columns')\n",
    "#combined_df"
   ]
  },
  {
   "cell_type": "code",
   "execution_count": 12,
   "id": "4db91c3f",
   "metadata": {},
   "outputs": [],
   "source": [
    "only_house_values = combined_df[['House Value']]\n",
    "#only_house_values"
   ]
  },
  {
   "cell_type": "code",
   "execution_count": 13,
   "id": "b01946a6",
   "metadata": {},
   "outputs": [],
   "source": [
    "monthly_full_df = only_house_values.merge(full_df, how='inner',right_index=True, left_index=True)\n",
    "# monthly_full_df.head()"
   ]
  },
  {
   "cell_type": "code",
   "execution_count": 14,
   "id": "f3e9a4bc",
   "metadata": {},
   "outputs": [],
   "source": [
    "#monthly_full_df.plot(figsize=(18,5))"
   ]
  },
  {
   "cell_type": "code",
   "execution_count": 15,
   "id": "9c640721",
   "metadata": {},
   "outputs": [],
   "source": [
    "monthly_change = monthly_full_df.pct_change()"
   ]
  },
  {
   "cell_type": "code",
   "execution_count": 16,
   "id": "b91bb280",
   "metadata": {},
   "outputs": [],
   "source": [
    "monthly_change.dropna(inplace=True)"
   ]
  },
  {
   "cell_type": "code",
   "execution_count": 17,
   "id": "ea9e8270",
   "metadata": {},
   "outputs": [],
   "source": [
    "#monthly_change.plot()"
   ]
  },
  {
   "cell_type": "code",
   "execution_count": 18,
   "id": "5b88e324",
   "metadata": {},
   "outputs": [],
   "source": [
    "# cum_monthly_change = monthly_change.cumprod()\n",
    "# cum_monthly_change.tail()\n",
    "\n",
    "cumulative_monthly_returns = (1+monthly_change).cumprod() - 1"
   ]
  },
  {
   "cell_type": "code",
   "execution_count": 19,
   "id": "c8634084",
   "metadata": {},
   "outputs": [],
   "source": [
    "# Calculate cumulative returns of all portfolios\n",
    "#cumulative_returns_all = (1 + combined_df).cumprod() - 1\n",
    "\n",
    "readable_print_out = cumulative_monthly_returns * 100\n",
    "readable_print_out = round(readable_print_out, 2)\n",
    "\n",
    "# print(readable_print_out.iloc[-1],'\\n')\n",
    "# # Plot cumulative returns\n",
    "# cumulative_monthly_returns.plot(figsize=(18,5))"
   ]
  },
  {
   "cell_type": "code",
   "execution_count": 20,
   "id": "3a1945b0",
   "metadata": {},
   "outputs": [],
   "source": [
    "monthly_houseandstock_df = only_house_values.merge(iex_stock_list, how='inner',right_index=True, left_index=True)\n",
    "# monthly_houseandstock_df"
   ]
  },
  {
   "cell_type": "code",
   "execution_count": 21,
   "id": "70204062",
   "metadata": {},
   "outputs": [],
   "source": [
    "monthly_houseandstock_change = monthly_houseandstock_df.pct_change()\n",
    "monthly_houseandstock_change.dropna(inplace=True)\n",
    "cumulative_houseandstock_change = (1+monthly_houseandstock_change).cumprod() - 1"
   ]
  },
  {
   "cell_type": "code",
   "execution_count": 22,
   "id": "6c702dc8",
   "metadata": {},
   "outputs": [],
   "source": [
    "readable_print_out_2 = cumulative_houseandstock_change * 100\n",
    "readable_print_out_2 = round(readable_print_out_2, 2)\n",
    "\n",
    "# print(readable_print_out_2.iloc[-1],'\\n')\n",
    "# # Plot cumulative returns\n",
    "# cumulative_houseandstock_change.plot(figsize=(18,5))"
   ]
  },
  {
   "cell_type": "code",
   "execution_count": 23,
   "id": "4ebfc1af",
   "metadata": {},
   "outputs": [
    {
     "name": "stderr",
     "output_type": "stream",
     "text": [
      "C:\\Users\\watso\\anaconda3\\envs\\pyvizenv\\lib\\site-packages\\pandas\\core\\frame.py:4449: SettingWithCopyWarning: \n",
      "A value is trying to be set on a copy of a slice from a DataFrame\n",
      "\n",
      "See the caveats in the documentation: https://pandas.pydata.org/pandas-docs/stable/user_guide/indexing.html#returning-a-view-versus-a-copy\n",
      "  errors=errors,\n"
     ]
    }
   ],
   "source": [
    "US_market_index = get_close('VUS.TO')"
   ]
  },
  {
   "cell_type": "code",
   "execution_count": 24,
   "id": "6364c2ec",
   "metadata": {},
   "outputs": [],
   "source": [
    "# US_market_index"
   ]
  },
  {
   "cell_type": "code",
   "execution_count": 25,
   "id": "7eae53c2",
   "metadata": {},
   "outputs": [],
   "source": [
    "monthly_full_df_VS = US_market_index.merge(monthly_full_df, how='inner',right_index=True, left_index=True)\n",
    "# monthly_full_df_VS.head()"
   ]
  },
  {
   "cell_type": "code",
   "execution_count": 26,
   "id": "4fe017a3",
   "metadata": {},
   "outputs": [],
   "source": [
    "# List of DataFrames  \n",
    "# iex_stock_list      just stock close daily data \n",
    "# crypto_df           just crypto close daily data \n",
    "# full_df             iex and crypto combined \n",
    "# monthly_full_df     full_df combined with monthly housing values \n",
    "# monthly_houseandstock_df       only stocks and housing values \n",
    "# monthly_full_df_VS             monthly_full_df combined with VUS.TO index \n",
    "# combined_df                    combined_df of all housing price data "
   ]
  },
  {
   "cell_type": "code",
   "execution_count": 27,
   "id": "6abe27ed",
   "metadata": {},
   "outputs": [],
   "source": [
    "iex_stock_list.to_csv('Resources/iex_stock_list.csv')\n",
    "crypto_df.to_csv('Resources/crypto_df.csv')\n",
    "full_df.to_csv('Resources/full_df.csv')\n",
    "monthly_full_df.to_csv('Resources/monthly_full_df.csv')\n",
    "monthly_houseandstock_df.to_csv('Resources/monthly_houseandstock_df.csv')\n",
    "monthly_full_df_VS.to_csv('Resources/monthly_full_df_VS.csv')\n",
    "combined_df.to_csv('Resources/combined_df.csv')"
   ]
  },
  {
   "cell_type": "code",
   "execution_count": 28,
   "id": "15cf5c70",
   "metadata": {},
   "outputs": [],
   "source": [
    "# plot_1 = monthly_full_df_VS.plot(y=\"VUS.TO\")\n",
    "# plot_2 = monthly_full_df_VS.plot(y=\"House Value\")"
   ]
  },
  {
   "cell_type": "code",
   "execution_count": 29,
   "id": "e4db3e97",
   "metadata": {},
   "outputs": [
    {
     "name": "stderr",
     "output_type": "stream",
     "text": [
      "C:\\Users\\watso\\anaconda3\\envs\\pyvizenv\\lib\\site-packages\\pandas\\core\\frame.py:4449: SettingWithCopyWarning: \n",
      "A value is trying to be set on a copy of a slice from a DataFrame\n",
      "\n",
      "See the caveats in the documentation: https://pandas.pydata.org/pandas-docs/stable/user_guide/indexing.html#returning-a-view-versus-a-copy\n",
      "  errors=errors,\n",
      "C:\\Users\\watso\\anaconda3\\envs\\pyvizenv\\lib\\site-packages\\pandas\\core\\frame.py:4315: SettingWithCopyWarning: \n",
      "A value is trying to be set on a copy of a slice from a DataFrame\n",
      "\n",
      "See the caveats in the documentation: https://pandas.pydata.org/pandas-docs/stable/user_guide/indexing.html#returning-a-view-versus-a-copy\n",
      "  errors=errors,\n"
     ]
    }
   ],
   "source": [
    "iex_stock_df = pd.read_csv(\n",
    "    Path(\"Resources/iex_stock_list.csv\"),\n",
    "    infer_datetime_format=True,\n",
    "    parse_dates=True,\n",
    "    #index_col=\"Date\",\n",
    ")\n",
    "iex_stock_df_date_index = pd.read_csv(\n",
    "    Path(\"Resources/iex_stock_list.csv\"),\n",
    "    infer_datetime_format=True,\n",
    "    parse_dates=True,\n",
    "    index_col=\"Date\",\n",
    ")\n",
    "house_price = pd.read_csv(\n",
    "    Path(\"Resources/combined_df.csv\"),\n",
    "    infer_datetime_format=True,\n",
    "    parse_dates=True,\n",
    "    #index_col=\"Date\",\n",
    ")\n",
    "house_value = house_price[[\"Date\",\"House Value\"]]\n",
    "crypto_df = pd.read_csv(\n",
    "    Path(\"Resources/crypto_df.csv\"),\n",
    "    infer_datetime_format=True,\n",
    "    parse_dates=True,\n",
    "    index_col=\"Date\",\n",
    ")\n",
    "vus_df = get_close(\"VUS.TO\")\n",
    "iex_stock_df_date_index = vus_df.merge(iex_stock_df_date_index, how='inner',right_index=True, left_index=True)\n",
    "full_df = crypto_df.merge(iex_stock_df_date_index, how='inner',right_index=True, left_index=True)\n",
    "full_df.reset_index(inplace=True)\n",
    "new_df = full_df.iloc[::21,:]\n",
    "new_df.reset_index(inplace=True)\n",
    "new_df.drop(columns={\"index\",\"Date\"},inplace=True)\n",
    "final_df = pd.concat([house_value,new_df], axis=\"columns\")\n",
    "final_df.set_index(\"Date\",inplace=True)\n",
    "final_df.to_csv('Resources/final_df.csv')"
   ]
  },
  {
   "cell_type": "code",
   "execution_count": 30,
   "id": "c082c8e2",
   "metadata": {},
   "outputs": [
    {
     "data": {
      "text/html": [
       "<div>\n",
       "<style scoped>\n",
       "    .dataframe tbody tr th:only-of-type {\n",
       "        vertical-align: middle;\n",
       "    }\n",
       "\n",
       "    .dataframe tbody tr th {\n",
       "        vertical-align: top;\n",
       "    }\n",
       "\n",
       "    .dataframe thead th {\n",
       "        text-align: right;\n",
       "    }\n",
       "</style>\n",
       "<table border=\"1\" class=\"dataframe\">\n",
       "  <thead>\n",
       "    <tr style=\"text-align: right;\">\n",
       "      <th></th>\n",
       "      <th>House Value</th>\n",
       "      <th>BTC-USD</th>\n",
       "      <th>ETH-USD</th>\n",
       "      <th>VUS.TO</th>\n",
       "      <th>GME</th>\n",
       "      <th>AMC</th>\n",
       "      <th>AMZN</th>\n",
       "      <th>WMT</th>\n",
       "      <th>NVDA</th>\n",
       "      <th>AMD</th>\n",
       "      <th>AAPL</th>\n",
       "      <th>MSFT</th>\n",
       "      <th>DIS</th>\n",
       "      <th>PYPL</th>\n",
       "    </tr>\n",
       "    <tr>\n",
       "      <th>Date</th>\n",
       "      <th></th>\n",
       "      <th></th>\n",
       "      <th></th>\n",
       "      <th></th>\n",
       "      <th></th>\n",
       "      <th></th>\n",
       "      <th></th>\n",
       "      <th></th>\n",
       "      <th></th>\n",
       "      <th></th>\n",
       "      <th></th>\n",
       "      <th></th>\n",
       "      <th></th>\n",
       "      <th></th>\n",
       "    </tr>\n",
       "  </thead>\n",
       "  <tbody>\n",
       "    <tr>\n",
       "      <th>2015-08-01</th>\n",
       "      <td>91.8</td>\n",
       "      <td>279.584991</td>\n",
       "      <td>2.772120</td>\n",
       "      <td>42.209999</td>\n",
       "      <td>46.06</td>\n",
       "      <td>30.76</td>\n",
       "      <td>549.41</td>\n",
       "      <td>73.88</td>\n",
       "      <td>5.2210</td>\n",
       "      <td>2.160</td>\n",
       "      <td>29.4109</td>\n",
       "      <td>47.45</td>\n",
       "      <td>110.89</td>\n",
       "      <td>40.06</td>\n",
       "    </tr>\n",
       "    <tr>\n",
       "      <th>2015-09-01</th>\n",
       "      <td>92.0</td>\n",
       "      <td>235.018997</td>\n",
       "      <td>1.338810</td>\n",
       "      <td>38.959999</td>\n",
       "      <td>43.24</td>\n",
       "      <td>28.95</td>\n",
       "      <td>516.00</td>\n",
       "      <td>65.70</td>\n",
       "      <td>5.4940</td>\n",
       "      <td>1.840</td>\n",
       "      <td>28.2082</td>\n",
       "      <td>43.44</td>\n",
       "      <td>105.74</td>\n",
       "      <td>35.23</td>\n",
       "    </tr>\n",
       "    <tr>\n",
       "      <th>2015-10-01</th>\n",
       "      <td>92.4</td>\n",
       "      <td>242.968994</td>\n",
       "      <td>0.609388</td>\n",
       "      <td>39.790001</td>\n",
       "      <td>44.27</td>\n",
       "      <td>26.29</td>\n",
       "      <td>553.29</td>\n",
       "      <td>66.81</td>\n",
       "      <td>6.6658</td>\n",
       "      <td>1.890</td>\n",
       "      <td>28.8143</td>\n",
       "      <td>47.77</td>\n",
       "      <td>104.89</td>\n",
       "      <td>33.31</td>\n",
       "    </tr>\n",
       "    <tr>\n",
       "      <th>2015-11-01</th>\n",
       "      <td>92.6</td>\n",
       "      <td>386.354004</td>\n",
       "      <td>0.895637</td>\n",
       "      <td>42.049999</td>\n",
       "      <td>47.77</td>\n",
       "      <td>27.53</td>\n",
       "      <td>668.77</td>\n",
       "      <td>60.85</td>\n",
       "      <td>7.0561</td>\n",
       "      <td>2.200</td>\n",
       "      <td>31.0200</td>\n",
       "      <td>56.53</td>\n",
       "      <td>116.00</td>\n",
       "      <td>37.24</td>\n",
       "    </tr>\n",
       "    <tr>\n",
       "      <th>2015-12-01</th>\n",
       "      <td>92.8</td>\n",
       "      <td>395.536011</td>\n",
       "      <td>0.811264</td>\n",
       "      <td>41.610001</td>\n",
       "      <td>33.15</td>\n",
       "      <td>23.68</td>\n",
       "      <td>687.43</td>\n",
       "      <td>62.60</td>\n",
       "      <td>8.4726</td>\n",
       "      <td>2.402</td>\n",
       "      <td>30.6200</td>\n",
       "      <td>55.82</td>\n",
       "      <td>116.40</td>\n",
       "      <td>36.37</td>\n",
       "    </tr>\n",
       "    <tr>\n",
       "      <th>...</th>\n",
       "      <td>...</td>\n",
       "      <td>...</td>\n",
       "      <td>...</td>\n",
       "      <td>...</td>\n",
       "      <td>...</td>\n",
       "      <td>...</td>\n",
       "      <td>...</td>\n",
       "      <td>...</td>\n",
       "      <td>...</td>\n",
       "      <td>...</td>\n",
       "      <td>...</td>\n",
       "      <td>...</td>\n",
       "      <td>...</td>\n",
       "      <td>...</td>\n",
       "    </tr>\n",
       "    <tr>\n",
       "      <th>2021-04-01</th>\n",
       "      <td>118.3</td>\n",
       "      <td>37304.691406</td>\n",
       "      <td>2430.621338</td>\n",
       "      <td>78.820000</td>\n",
       "      <td>178.37</td>\n",
       "      <td>13.11</td>\n",
       "      <td>3279.31</td>\n",
       "      <td>147.29</td>\n",
       "      <td>152.0760</td>\n",
       "      <td>79.770</td>\n",
       "      <td>127.3300</td>\n",
       "      <td>249.94</td>\n",
       "      <td>175.37</td>\n",
       "      <td>261.98</td>\n",
       "    </tr>\n",
       "    <tr>\n",
       "      <th>2021-05-01</th>\n",
       "      <td>119.9</td>\n",
       "      <td>33723.027344</td>\n",
       "      <td>1989.736328</td>\n",
       "      <td>80.980003</td>\n",
       "      <td>222.90</td>\n",
       "      <td>61.14</td>\n",
       "      <td>3620.84</td>\n",
       "      <td>143.09</td>\n",
       "      <td>192.1138</td>\n",
       "      <td>85.580</td>\n",
       "      <td>139.2500</td>\n",
       "      <td>278.18</td>\n",
       "      <td>175.20</td>\n",
       "      <td>289.09</td>\n",
       "    </tr>\n",
       "    <tr>\n",
       "      <th>2021-06-01</th>\n",
       "      <td>120.7</td>\n",
       "      <td>34292.445312</td>\n",
       "      <td>2189.218750</td>\n",
       "      <td>83.430000</td>\n",
       "      <td>186.50</td>\n",
       "      <td>37.76</td>\n",
       "      <td>3786.43</td>\n",
       "      <td>144.35</td>\n",
       "      <td>199.9700</td>\n",
       "      <td>92.530</td>\n",
       "      <td>150.7500</td>\n",
       "      <td>304.15</td>\n",
       "      <td>179.91</td>\n",
       "      <td>311.55</td>\n",
       "    </tr>\n",
       "    <tr>\n",
       "      <th>2021-07-01</th>\n",
       "      <td>121.4</td>\n",
       "      <td>48960.789062</td>\n",
       "      <td>3224.915283</td>\n",
       "      <td>84.760002</td>\n",
       "      <td>218.52</td>\n",
       "      <td>45.08</td>\n",
       "      <td>3319.73</td>\n",
       "      <td>153.50</td>\n",
       "      <td>220.8100</td>\n",
       "      <td>110.270</td>\n",
       "      <td>150.4700</td>\n",
       "      <td>307.58</td>\n",
       "      <td>181.08</td>\n",
       "      <td>280.28</td>\n",
       "    </tr>\n",
       "    <tr>\n",
       "      <th>2021-08-01</th>\n",
       "      <td>122.9</td>\n",
       "      <td>42839.750000</td>\n",
       "      <td>2931.669189</td>\n",
       "      <td>84.400002</td>\n",
       "      <td>200.68</td>\n",
       "      <td>41.96</td>\n",
       "      <td>3455.00</td>\n",
       "      <td>144.43</td>\n",
       "      <td>227.8900</td>\n",
       "      <td>107.350</td>\n",
       "      <td>149.9100</td>\n",
       "      <td>313.49</td>\n",
       "      <td>182.25</td>\n",
       "      <td>290.10</td>\n",
       "    </tr>\n",
       "  </tbody>\n",
       "</table>\n",
       "<p>73 rows × 14 columns</p>\n",
       "</div>"
      ],
      "text/plain": [
       "            House Value       BTC-USD      ETH-USD     VUS.TO     GME    AMC  \\\n",
       "Date                                                                           \n",
       "2015-08-01         91.8    279.584991     2.772120  42.209999   46.06  30.76   \n",
       "2015-09-01         92.0    235.018997     1.338810  38.959999   43.24  28.95   \n",
       "2015-10-01         92.4    242.968994     0.609388  39.790001   44.27  26.29   \n",
       "2015-11-01         92.6    386.354004     0.895637  42.049999   47.77  27.53   \n",
       "2015-12-01         92.8    395.536011     0.811264  41.610001   33.15  23.68   \n",
       "...                 ...           ...          ...        ...     ...    ...   \n",
       "2021-04-01        118.3  37304.691406  2430.621338  78.820000  178.37  13.11   \n",
       "2021-05-01        119.9  33723.027344  1989.736328  80.980003  222.90  61.14   \n",
       "2021-06-01        120.7  34292.445312  2189.218750  83.430000  186.50  37.76   \n",
       "2021-07-01        121.4  48960.789062  3224.915283  84.760002  218.52  45.08   \n",
       "2021-08-01        122.9  42839.750000  2931.669189  84.400002  200.68  41.96   \n",
       "\n",
       "               AMZN     WMT      NVDA      AMD      AAPL    MSFT     DIS  \\\n",
       "Date                                                                       \n",
       "2015-08-01   549.41   73.88    5.2210    2.160   29.4109   47.45  110.89   \n",
       "2015-09-01   516.00   65.70    5.4940    1.840   28.2082   43.44  105.74   \n",
       "2015-10-01   553.29   66.81    6.6658    1.890   28.8143   47.77  104.89   \n",
       "2015-11-01   668.77   60.85    7.0561    2.200   31.0200   56.53  116.00   \n",
       "2015-12-01   687.43   62.60    8.4726    2.402   30.6200   55.82  116.40   \n",
       "...             ...     ...       ...      ...       ...     ...     ...   \n",
       "2021-04-01  3279.31  147.29  152.0760   79.770  127.3300  249.94  175.37   \n",
       "2021-05-01  3620.84  143.09  192.1138   85.580  139.2500  278.18  175.20   \n",
       "2021-06-01  3786.43  144.35  199.9700   92.530  150.7500  304.15  179.91   \n",
       "2021-07-01  3319.73  153.50  220.8100  110.270  150.4700  307.58  181.08   \n",
       "2021-08-01  3455.00  144.43  227.8900  107.350  149.9100  313.49  182.25   \n",
       "\n",
       "              PYPL  \n",
       "Date                \n",
       "2015-08-01   40.06  \n",
       "2015-09-01   35.23  \n",
       "2015-10-01   33.31  \n",
       "2015-11-01   37.24  \n",
       "2015-12-01   36.37  \n",
       "...            ...  \n",
       "2021-04-01  261.98  \n",
       "2021-05-01  289.09  \n",
       "2021-06-01  311.55  \n",
       "2021-07-01  280.28  \n",
       "2021-08-01  290.10  \n",
       "\n",
       "[73 rows x 14 columns]"
      ]
     },
     "execution_count": 30,
     "metadata": {},
     "output_type": "execute_result"
    }
   ],
   "source": [
    "final_df"
   ]
  },
  {
   "cell_type": "code",
   "execution_count": null,
   "id": "e81f5ac0",
   "metadata": {},
   "outputs": [],
   "source": []
  }
 ],
 "metadata": {
  "kernelspec": {
   "display_name": "Python 3",
   "language": "python",
   "name": "python3"
  },
  "language_info": {
   "codemirror_mode": {
    "name": "ipython",
    "version": 3
   },
   "file_extension": ".py",
   "mimetype": "text/x-python",
   "name": "python",
   "nbconvert_exporter": "python",
   "pygments_lexer": "ipython3",
   "version": "3.7.10"
  }
 },
 "nbformat": 4,
 "nbformat_minor": 5
}
